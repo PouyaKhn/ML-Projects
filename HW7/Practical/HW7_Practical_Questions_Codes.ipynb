{
  "nbformat": 4,
  "nbformat_minor": 0,
  "metadata": {
    "kernelspec": {
      "display_name": "Python 3",
      "language": "python",
      "name": "python3"
    },
    "language_info": {
      "codemirror_mode": {
        "name": "ipython",
        "version": 3
      },
      "file_extension": ".py",
      "mimetype": "text/x-python",
      "name": "python",
      "nbconvert_exporter": "python",
      "pygments_lexer": "ipython3",
      "version": "3.8.6"
    },
    "toc": {
      "base_numbering": 1,
      "nav_menu": {},
      "number_sections": true,
      "sideBar": true,
      "skip_h1_title": false,
      "title_cell": "Table of Contents",
      "title_sidebar": "Contents",
      "toc_cell": false,
      "toc_position": {},
      "toc_section_display": true,
      "toc_window_display": false
    },
    "varInspector": {
      "cols": {
        "lenName": 16,
        "lenType": 16,
        "lenVar": 40
      },
      "kernels_config": {
        "python": {
          "delete_cmd_postfix": "",
          "delete_cmd_prefix": "del ",
          "library": "var_list.py",
          "varRefreshCmd": "print(var_dic_list())"
        },
        "r": {
          "delete_cmd_postfix": ") ",
          "delete_cmd_prefix": "rm(",
          "library": "var_list.r",
          "varRefreshCmd": "cat(var_dic_list()) "
        }
      },
      "types_to_exclude": [
        "module",
        "function",
        "builtin_function_or_method",
        "instance",
        "_Feature"
      ],
      "window_display": false
    },
    "colab": {
      "name": "ML2021S-HW7.ipynb",
      "provenance": [],
      "toc_visible": true
    }
  },
  "cells": [
    {
      "cell_type": "markdown",
      "metadata": {
        "deletable": false,
        "editable": false,
        "heading_collapsed": true,
        "run_control": {
          "frozen": true
        },
        "id": "FRbLm87IfWzw"
      },
      "source": [
        "# CE-40717: Machine Learning"
      ]
    },
    {
      "cell_type": "markdown",
      "metadata": {
        "deletable": false,
        "editable": false,
        "heading_collapsed": true,
        "hidden": true,
        "run_control": {
          "frozen": true
        },
        "id": "0YfU9MKrfWzz"
      },
      "source": [
        "## HW7-Regression"
      ]
    },
    {
      "cell_type": "markdown",
      "metadata": {
        "heading_collapsed": true,
        "hidden": true,
        "id": "QoFSCaoLfWz0"
      },
      "source": [
        "### Please fill this part\n",
        "\n",
        "\n",
        "1.   Full Name: Pouya Khani\n",
        "2.   Student Number: 99210283"
      ]
    },
    {
      "cell_type": "code",
      "metadata": {
        "hidden": true,
        "id": "C4KLVrF7fWz1"
      },
      "source": [
        "# You are not allowed to import other packages.\n",
        "\n",
        "import numpy as np\n",
        "import pandas as pd\n",
        "\n",
        "from matplotlib import pyplot as plt\n",
        "from sklearn.metrics import mean_squared_error"
      ],
      "execution_count": null,
      "outputs": []
    },
    {
      "cell_type": "markdown",
      "metadata": {
        "deletable": false,
        "editable": false,
        "heading_collapsed": true,
        "hidden": true,
        "run_control": {
          "frozen": true
        },
        "id": "Sh71o6YefWz1"
      },
      "source": [
        "### Part1:\n",
        "Consider the dataset which has been given to you. Split the dataset into the `training dataset` and `test dataset`. You can use `80%` of the data for training and the rest for testing."
      ]
    },
    {
      "cell_type": "code",
      "metadata": {
        "hidden": true,
        "id": "Y2xhiaxxfWz1"
      },
      "source": [
        "dataset = pd.read_csv(\"./ML2021S-HW7-data.csv\")\n",
        "dataset = dataset.drop(['num'],axis=1)\n",
        "# implement the split part\n",
        "# name them: x_train, x_test, y_train, y_test\n",
        "\n",
        "x_train = dataset.iloc[:int(0.8*len(dataset)),0]\n",
        "y_train = dataset.iloc[:int(0.8*len(dataset)),1]\n",
        "\n",
        "x_test = dataset.iloc[int(0.8*len(dataset)):,0]\n",
        "y_test = dataset.iloc[int(0.8*len(dataset)):,1]"
      ],
      "execution_count": null,
      "outputs": []
    },
    {
      "cell_type": "markdown",
      "metadata": {
        "deletable": false,
        "editable": false,
        "heading_collapsed": true,
        "hidden": true,
        "run_control": {
          "frozen": true
        },
        "id": "czocOJjqfWz2"
      },
      "source": [
        "### Part2:\n",
        "Assume there is simple linear relationship between X and Y. Train a simple `Linear Regression` on the training dataset and report its accuracy on the training and testing dataset, separately."
      ]
    },
    {
      "cell_type": "code",
      "metadata": {
        "hidden": true,
        "id": "srfr0r4wfWz2"
      },
      "source": [
        "# here you can implement via sgd or use least square solution. we suggest the second one inv(A^T A) * A^T y.\n",
        "# consider m as the returned line --> m[0] = the slope , m[1] = y intercept, also don't forget to use numpy for calculating m.\n",
        "def least_squares(x,y):\n",
        "    xmean=x.mean()\n",
        "    ymean=y.mean()\n",
        "    num=((x-xmean)*(y-ymean)).sum(axis=0)\n",
        "    den=((x-x.mean())**2).sum(axis=0)\n",
        "    weight=num/den\n",
        "    bias=ymean-(weight*xmean)\n",
        "    return weight,bias\n",
        "\n",
        "weight,bias=least_squares(x_train,y_train)\n",
        "m=np.zeros(2)\n",
        "m[0]=weight\n",
        "m[1]=bias"
      ],
      "execution_count": null,
      "outputs": []
    },
    {
      "cell_type": "code",
      "metadata": {
        "hidden": true,
        "colab": {
          "base_uri": "https://localhost:8080/"
        },
        "id": "YHRYBqqgfWz3",
        "outputId": "74e73382-c4b6-459c-aef7-ec00d3fbd0f4"
      },
      "source": [
        "predicted_train_y = m[0] * x_train + m[1]\n",
        "predicted_test_y = m[0] * x_test + m[1]\n",
        "def mse(true,pred):\n",
        "    return np.mean((pred-true)**2)\n",
        "\n",
        "train_error = mse(y_train,predicted_train_y)\n",
        "test_error = mse(y_test,predicted_test_y)\n",
        "\n",
        "print(f\"MSE train error: {train_error}\\nMSE test error: {test_error}\")"
      ],
      "execution_count": null,
      "outputs": [
        {
          "output_type": "stream",
          "text": [
            "MSE train error: 0.32467763017774204\n",
            "MSE test error: 0.354495119213003\n"
          ],
          "name": "stdout"
        }
      ]
    },
    {
      "cell_type": "markdown",
      "metadata": {
        "deletable": false,
        "editable": false,
        "heading_collapsed": true,
        "hidden": true,
        "run_control": {
          "frozen": true
        },
        "id": "FTCcpLrGfWz3"
      },
      "source": [
        "### Part3:\n",
        "Draw the line you've found in the last part, on train and test points (each separately)."
      ]
    },
    {
      "cell_type": "code",
      "metadata": {
        "hidden": true,
        "colab": {
          "base_uri": "https://localhost:8080/",
          "height": 297
        },
        "id": "XGIxoLvzfWz3",
        "outputId": "cd66ae59-477e-4772-93ee-bb727bd26176"
      },
      "source": [
        "plt.scatter(x_train, y_train)\n",
        "plt.scatter(x_train, m[0]*x_train + m[1], s=1)\n",
        "plt.title(\"Train dataset\")"
      ],
      "execution_count": null,
      "outputs": [
        {
          "output_type": "execute_result",
          "data": {
            "text/plain": [
              "Text(0.5, 1.0, 'Train dataset')"
            ]
          },
          "metadata": {
            "tags": []
          },
          "execution_count": 32
        },
        {
          "output_type": "display_data",
          "data": {
            "image/png": "[encoded data removed]",
            "text/plain": [
              "<Figure size 432x288 with 1 Axes>"
            ]
          },
          "metadata": {
            "tags": [],
            "needs_background": "light"
          }
        }
      ]
    },
    {
      "cell_type": "code",
      "metadata": {
        "hidden": true,
        "colab": {
          "base_uri": "https://localhost:8080/",
          "height": 297
        },
        "id": "UuN5xFyvfWz4",
        "outputId": "614d23ff-3dac-4dcd-e6c1-ec55a04a0d20"
      },
      "source": [
        "plt.scatter(x_test, y_test)\n",
        "plt.scatter(x_test, m[0]*x_test + m[1], s=1)\n",
        "plt.title(\"Test dataset\")"
      ],
      "execution_count": null,
      "outputs": [
        {
          "output_type": "execute_result",
          "data": {
            "text/plain": [
              "Text(0.5, 1.0, 'Test dataset')"
            ]
          },
          "metadata": {
            "tags": []
          },
          "execution_count": 33
        },
        {
          "output_type": "display_data",
          "data": {
            "image/png": "[encoded data removed]",
            "text/plain": [
              "<Figure size 432x288 with 1 Axes>"
            ]
          },
          "metadata": {
            "tags": [],
            "needs_background": "light"
          }
        }
      ]
    },
    {
      "cell_type": "markdown",
      "metadata": {
        "deletable": false,
        "editable": false,
        "heading_collapsed": true,
        "hidden": true,
        "run_control": {
          "frozen": true
        },
        "id": "ZK2rOnh9fWz4"
      },
      "source": [
        "### Part4:\n",
        "Were the reported accuracies acceptable?\n",
        "\n",
        "What about the line you drew in the last part?\n",
        "\n",
        "Was it appropriate for the dataset?\n",
        "<br><br/>\n",
        "Explain what are the main problems here."
      ]
    },
    {
      "cell_type": "markdown",
      "metadata": {
        "hidden": true,
        "id": "dExyLtYPfWz5"
      },
      "source": [
        "1- No this is not acceptable accuracy because MSE error is too high.\n",
        "\n",
        "2- Because of the non-linear nature of our dataset,our linear classifier can't classify our data good.\n",
        "\n",
        "3- this line is good for dataset but problem is that data distribution is not linearly seperatable and linear regression can't do well.\n",
        "\n",
        "4- problems: data is not linearly seperatable and linear regression can't classify those with good accuracy.we need non-linear approachs for more complex classifier."
      ]
    },
    {
      "cell_type": "markdown",
      "metadata": {
        "deletable": false,
        "editable": false,
        "heading_collapsed": true,
        "hidden": true,
        "run_control": {
          "frozen": true
        },
        "id": "XZyCncYhfWz5"
      },
      "source": [
        "### Part5:\n",
        "Now, consider the `Locally Weighted Linear Regression` approach for this problem. Do expect it performs better than simple `Linear Regression` for this dataset?"
      ]
    },
    {
      "cell_type": "markdown",
      "metadata": {
        "hidden": true,
        "id": "CLI7BuxsfWz5"
      },
      "source": [
        "No due to merging in this approach, finally we will have linear regression."
      ]
    },
    {
      "cell_type": "markdown",
      "metadata": {
        "deletable": false,
        "editable": false,
        "heading_collapsed": true,
        "hidden": true,
        "run_control": {
          "frozen": true
        },
        "id": "QZZl1eY2fWz5"
      },
      "source": [
        "### Part6:\n",
        "Here, we want to implement the `suggested model`. You can implement any weight function you want, the below implementation is just a sample:\n",
        "<br><br/>\n",
        "\\begin{equation*}\n",
        "    w^{(i)}=exp\\left(-\\frac{(\\mathbf x^{(i)}-\\mathbf x)^\\top(\\mathbf x^{(i)}-\\mathbf x)}{2\\tau^2}\\right)\n",
        "\\end{equation*}"
      ]
    },
    {
      "cell_type": "code",
      "metadata": {
        "hidden": true,
        "id": "0eOmcV_OfWz6"
      },
      "source": [
        "def get_weight_matrix(the_query_point, train_dataset, hyperparameter):\n",
        "    l = train_dataset.shape[0]\n",
        "    W = np.mat(np.eye(l))\n",
        "    for i in range(l): \n",
        "        xi = train_dataset[i] \n",
        "        d = (-2 * hyperparameter * hyperparameter) \n",
        "        W[i, i] = np.exp(np.dot((xi-the_query_point), (xi-the_query_point).T)/d)\n",
        "    return W"
      ],
      "execution_count": null,
      "outputs": []
    },
    {
      "cell_type": "markdown",
      "metadata": {
        "deletable": false,
        "editable": false,
        "hidden": true,
        "run_control": {
          "frozen": true
        },
        "id": "FfQTBfCWfWz6"
      },
      "source": [
        "Now implement the `closed form solution` based on the following formula:\n",
        "<br><br/>\n",
        "\\begin{equation*}\n",
        "    \\boldsymbol\\theta=(X^\\top WX)^{-1}(X^\\top WY)\n",
        "\\end{equation*}\n",
        "<br><br/>\n",
        "Of course if you use another form, implement your own."
      ]
    },
    {
      "cell_type": "code",
      "metadata": {
        "hidden": true,
        "id": "AMV7MUt_fWz6"
      },
      "source": [
        "def predict(train_X, train_Y, query_x, hyperparameter):\n",
        "    train_X = np.array(train_X.values.tolist())\n",
        "    train_Y = np.array(train_Y.values.tolist())\n",
        "    l = train_X.shape[0]\n",
        "    train_X = train_X.reshape(l,1)\n",
        "    X = np.hstack((train_X, np.ones((l, 1))))\n",
        "    qx = np.mat([query_x, 1])\n",
        "    W = get_weight_matrix(qx, X, hyperparameter)\n",
        "    theta = np.linalg.pinv(X.T*(W * X))*(X.T*(W * train_Y.reshape(l,1)))\n",
        "    return np.dot(qx, theta)"
      ],
      "execution_count": null,
      "outputs": []
    },
    {
      "cell_type": "markdown",
      "metadata": {
        "deletable": false,
        "editable": false,
        "heading_collapsed": true,
        "hidden": true,
        "run_control": {
          "frozen": true
        },
        "id": "BfM1BbkbfWz6"
      },
      "source": [
        "### Part7:\n",
        "Report accuracy of this model on the test dataset. Also, draw a plot that contains (x_test, y_test) pairs and (x_test, predicted_y) pairs that differ in color."
      ]
    },
    {
      "cell_type": "code",
      "metadata": {
        "hidden": true,
        "colab": {
          "base_uri": "https://localhost:8080/"
        },
        "id": "7_8oK75xfWz7",
        "outputId": "25393fc7-f4be-4ea4-dc13-f35b86f1b777"
      },
      "source": [
        "predicted_test = [predict(x_train, y_train, query, 100) for query in x_test]\n",
        "error = mse(y_test,np.array(predicted_test).flatten())\n",
        "print(f\"MSE test error: {error}\")"
      ],
      "execution_count": null,
      "outputs": [
        {
          "output_type": "stream",
          "text": [
            "MSE test error: 0.35449462807476956\n"
          ],
          "name": "stdout"
        }
      ]
    },
    {
      "cell_type": "code",
      "metadata": {
        "hidden": true,
        "colab": {
          "base_uri": "https://localhost:8080/",
          "height": 283
        },
        "id": "p71i-4TGfWz7",
        "outputId": "454f7f6c-4d7e-4915-f8bd-aa7350b58d93"
      },
      "source": [
        "plt.scatter(x_test, y_test, c=\"blue\")\n",
        "plt.scatter(x_test, predicted_test, c=\"yellow\")"
      ],
      "execution_count": null,
      "outputs": [
        {
          "output_type": "execute_result",
          "data": {
            "text/plain": [
              "<matplotlib.collections.PathCollection at 0x7f1819f32a10>"
            ]
          },
          "metadata": {
            "tags": []
          },
          "execution_count": 131
        },
        {
          "output_type": "display_data",
          "data": {
            "image/png": "[encoded data removed]",
            "text/plain": [
              "<Figure size 432x288 with 1 Axes>"
            ]
          },
          "metadata": {
            "tags": [],
            "needs_background": "light"
          }
        }
      ]
    },
    {
      "cell_type": "markdown",
      "metadata": {
        "deletable": false,
        "editable": false,
        "heading_collapsed": true,
        "hidden": true,
        "run_control": {
          "frozen": true
        },
        "id": "Dl892iVMfWz7"
      },
      "source": [
        "### Part8:\n",
        "Is the performance of the new model better than the previous one? `Explain`."
      ]
    },
    {
      "cell_type": "markdown",
      "metadata": {
        "hidden": true,
        "id": "iPEwq7CSfWz7"
      },
      "source": [
        "No because in locally weighted regression we must merge all local regression to one linear one and this is bad for our dataset."
      ]
    },
    {
      "cell_type": "markdown",
      "metadata": {
        "deletable": false,
        "editable": false,
        "heading_collapsed": true,
        "hidden": true,
        "run_control": {
          "frozen": true
        },
        "id": "Qj8nzmmpfWz7"
      },
      "source": [
        "### Part9:\n",
        "Now, we want to consider the `KNN` approach for this problem; Do you think it will perform well?"
      ]
    },
    {
      "cell_type": "markdown",
      "metadata": {
        "hidden": true,
        "id": "hrM4tO6nfWz8"
      },
      "source": [
        "yes because KNN see neighbors just for prediction and make a non-linear model"
      ]
    },
    {
      "cell_type": "markdown",
      "metadata": {
        "deletable": false,
        "editable": false,
        "heading_collapsed": true,
        "hidden": true,
        "run_control": {
          "frozen": true
        },
        "id": "ChmPtml0fWz8"
      },
      "source": [
        "### Part10:\n",
        "Implementing the `KNN model`."
      ]
    },
    {
      "cell_type": "code",
      "metadata": {
        "hidden": true,
        "id": "xYpEn3BYfWz8"
      },
      "source": [
        "class KNN:\n",
        "  def __init__(self, number_neighbours, X, Y):\n",
        "    self.k = number_neighbours\n",
        "    self.X = X\n",
        "    self.Y = Y\n",
        "\n",
        "  def distance(self, x1, x2):\n",
        "    distance = np.absolute(x1 - x2)\n",
        "    return distance\n",
        "\n",
        "  def return_nn_ids(self, x):\n",
        "    distances = np.empty((0 , 2),float)\n",
        "    for id,train_row in enumerate(self.X):\n",
        "      dist = self.distance(x, train_row)\n",
        "      distances = np.append(distances,np.array([[id,dist]]),axis=0)\n",
        "    distances = distances[distances[:,1].argsort()]\n",
        "    neighbors = list()\n",
        "    for i in range(self.k):\n",
        "      neighbors.append(distances[i][0])\n",
        "    return neighbors\n",
        "\n",
        "  def predict(self, x):\n",
        "    nearest_indices = self.return_nn_ids(x)\n",
        "    sum = 0.0\n",
        "    for i,index in enumerate(nearest_indices):\n",
        "      sum = sum + self.Y[index]\n",
        "    sum = sum / len(nearest_indices)\n",
        "    predicted_y = sum\n",
        "    return predicted_y"
      ],
      "execution_count": null,
      "outputs": []
    },
    {
      "cell_type": "code",
      "metadata": {
        "hidden": true,
        "id": "-fQ28h4jfWz8"
      },
      "source": [
        "def evaluation(k, x_train, y_train, x_test, y_test):\n",
        "    model = KNN(k, x_train, y_train)\n",
        "    predicted_y = [model.predict(x) for x in x_test]\n",
        "    error = mse(y_test,predicted_y)\n",
        "    return error, predicted_y"
      ],
      "execution_count": null,
      "outputs": []
    },
    {
      "cell_type": "code",
      "metadata": {
        "hidden": true,
        "colab": {
          "base_uri": "https://localhost:8080/",
          "height": 388
        },
        "id": "MVxs_j76fWz9",
        "outputId": "60002a31-b02f-413e-98c8-d1bed4a22f2b"
      },
      "source": [
        "mse_all = []\n",
        "\n",
        "for k in range(5,30):\n",
        "  error_knn, predicted_y = evaluation(k, x_train, y_train, x_test, y_test)\n",
        "  mse_all.append(error_knn)\n",
        "\n",
        "fig, ax = plt.subplots(figsize=(8,6))\n",
        "ax.plot(range(5,30), mse_all)\n",
        "ax.set_xlabel('# of Nearest Neighbors (k)')\n",
        "ax.set_ylabel('MSE error (%)');"
      ],
      "execution_count": null,
      "outputs": [
        {
          "output_type": "display_data",
          "data": {
            "image/png": "[encoded data removed]",
            "text/plain": [
              "<Figure size 576x432 with 1 Axes>"
            ]
          },
          "metadata": {
            "tags": [],
            "needs_background": "light"
          }
        }
      ]
    },
    {
      "cell_type": "code",
      "metadata": {
        "colab": {
          "base_uri": "https://localhost:8080/"
        },
        "id": "rT9mohABUf-N",
        "outputId": "d6b4b870-0934-45a4-8650-9021de2aecdf"
      },
      "source": [
        "error_knn, predicted_y = evaluation(24, x_train, y_train, x_test, y_test)\n",
        "print(f\"MSE error of KNN for test dataset: {error_knn}\")"
      ],
      "execution_count": null,
      "outputs": [
        {
          "output_type": "stream",
          "text": [
            "MSE error of KNN for test dataset: 0.09683341559345626\n"
          ],
          "name": "stdout"
        }
      ]
    },
    {
      "cell_type": "code",
      "metadata": {
        "hidden": true,
        "colab": {
          "base_uri": "https://localhost:8080/",
          "height": 283
        },
        "id": "pMhxrcyFfWz9",
        "outputId": "60276d65-4dca-4921-e63c-3ab65b483587"
      },
      "source": [
        "plt.scatter(x_test, y_test, c=\"blue\")\n",
        "plt.scatter(x_test, predicted_y, c=\"yellow\")"
      ],
      "execution_count": null,
      "outputs": [
        {
          "output_type": "execute_result",
          "data": {
            "text/plain": [
              "<matplotlib.collections.PathCollection at 0x7f1817db1b90>"
            ]
          },
          "metadata": {
            "tags": []
          },
          "execution_count": 263
        },
        {
          "output_type": "display_data",
          "data": {
            "image/png": "[encoded data removed]",
            "text/plain": [
              "<Figure size 432x288 with 1 Axes>"
            ]
          },
          "metadata": {
            "tags": [],
            "needs_background": "light"
          }
        }
      ]
    },
    {
      "cell_type": "markdown",
      "metadata": {
        "deletable": false,
        "editable": false,
        "hidden": true,
        "run_control": {
          "frozen": true
        },
        "id": "_oqiydy0fWz9"
      },
      "source": [
        "To find best K for this algorithm we suggest to use cross-validation.\n",
        "<br><br/>\n",
        "Did this model perform well (due to the plot and test accuracy)?"
      ]
    },
    {
      "cell_type": "markdown",
      "metadata": {
        "hidden": true,
        "id": "Hju5dJacfWz-"
      },
      "source": [
        "Yes because of locality nature of KNN(local,non-linear) , we get very good MSE error. best K is 24 due to plotting."
      ]
    }
  ]
}