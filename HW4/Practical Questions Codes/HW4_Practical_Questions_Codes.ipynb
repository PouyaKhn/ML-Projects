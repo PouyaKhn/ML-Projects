{
  "nbformat": 4,
  "nbformat_minor": 0,
  "metadata": {
    "colab": {
      "provenance": [],
      "toc_visible": true
    },
    "kernelspec": {
      "display_name": "Python 3",
      "language": "python",
      "name": "python3"
    },
    "language_info": {
      "codemirror_mode": {
        "name": "ipython",
        "version": 3
      },
      "file_extension": ".py",
      "mimetype": "text/x-python",
      "name": "python",
      "nbconvert_exporter": "python",
      "pygments_lexer": "ipython3",
      "version": "3.8.6"
    },
    "toc": {
      "base_numbering": 1,
      "nav_menu": {},
      "number_sections": true,
      "sideBar": true,
      "skip_h1_title": false,
      "title_cell": "Table of Contents",
      "title_sidebar": "Contents",
      "toc_cell": false,
      "toc_position": {},
      "toc_section_display": true,
      "toc_window_display": false
    },
    "varInspector": {
      "cols": {
        "lenName": 16,
        "lenType": 16,
        "lenVar": 40
      },
      "kernels_config": {
        "python": {
          "delete_cmd_postfix": "",
          "delete_cmd_prefix": "del ",
          "library": "var_list.py",
          "varRefreshCmd": "print(var_dic_list())"
        },
        "r": {
          "delete_cmd_postfix": ") ",
          "delete_cmd_prefix": "rm(",
          "library": "var_list.r",
          "varRefreshCmd": "cat(var_dic_list()) "
        }
      },
      "types_to_exclude": [
        "module",
        "function",
        "builtin_function_or_method",
        "instance",
        "_Feature"
      ],
      "window_display": false
    }
  },
  "cells": [
    {
      "cell_type": "markdown",
      "metadata": {
        "deletable": false,
        "editable": false,
        "heading_collapsed": true,
        "id": "7P66a3NStetI",
        "run_control": {
          "frozen": true
        }
      },
      "source": [
        "# CE-40717: Machine Learning"
      ]
    },
    {
      "cell_type": "markdown",
      "metadata": {
        "deletable": false,
        "editable": false,
        "heading_collapsed": true,
        "hidden": true,
        "run_control": {
          "frozen": true
        },
        "id": "Rz9C18ahr23P"
      },
      "source": [
        "## HW4-MultiLayer Perceptron (MLP)"
      ]
    },
    {
      "cell_type": "markdown",
      "metadata": {
        "hidden": true,
        "id": "ZsX3itNwTc8T"
      },
      "source": [
        "The following lines of code will load the [MNIST](http://yann.lecun.com/exdb/mnist/) data and turn them\n",
        "into numpy arrays, you can print their shape if you like.\n",
        "You can also transform the data as you wish, including seperating\n",
        "the training data for cross validation.\n",
        "\n",
        "If you have the data (on google drive or locally) change the root\n",
        "address accordingly, if you don't, set download=True but you might encounter\n",
        "some problems downloading the data."
      ]
    },
    {
      "cell_type": "code",
      "metadata": {
        "id": "XKA-wYjytwXM"
      },
      "source": [
        "import torchvision.datasets as ds\n",
        "import numpy as np\n",
        "import pandas as pd\n",
        "import matplotlib.pyplot as mlt"
      ],
      "execution_count": null,
      "outputs": []
    },
    {
      "cell_type": "code",
      "metadata": {
        "hidden": true,
        "id": "eRDGolwttJJr"
      },
      "source": [
        "data_train = np.array(ds.MNIST(root=\"./data\", train=True, download=True).data)\n",
        "target_train = np.array(ds.MNIST(root=\"./data\", train=True, download=True).targets)\n",
        "data_test = np.array(ds.MNIST(root=\"./data\", train=False, download=True).data)\n",
        "target_test = np.array(ds.MNIST(root=\"./data\", train=False, download=True).targets)"
      ],
      "execution_count": null,
      "outputs": []
    },
    {
      "cell_type": "code",
      "metadata": {
        "id": "0Df4xp3Tt01T"
      },
      "source": [
        "data_train = data_train/255\n",
        "data_test = data_test/255\n",
        "data_train = data_train.reshape(data_train.shape[0],data_train.shape[1]*data_train.shape[2])\n",
        "data_test = data_test.reshape(data_test.shape[0],data_test.shape[1]*data_test.shape[2])"
      ],
      "execution_count": null,
      "outputs": []
    },
    {
      "cell_type": "code",
      "metadata": {
        "id": "0BspOrT5QW2E"
      },
      "source": [
        "def softMax(X):\n",
        "  e = np.exp(X)\n",
        "  p = e/np.sum(e, axis=0)\n",
        "  return p\n",
        "\n",
        "def relu(X):\n",
        "  return np.maximum(0,X)\n",
        "\n",
        "def dReLU(z):\n",
        "    return (z > 0) * 1\n",
        "\n",
        "def oneHotEncoding(label):\n",
        "    n = np.max(label)+1\n",
        "    v = np.eye(n)[label]\n",
        "    return v.T\n",
        "\n",
        "def predict(y):\n",
        "  return np.argmax(y,0)\n",
        "\n",
        "def CrossEntropy(predictions, targets, epsilon=1e-12):\n",
        "    predictions = np.clip(predictions, epsilon, 1. - epsilon)\n",
        "    N = predictions.shape[0]\n",
        "    ce = -np.sum(targets*np.log(predictions+1e-9))/N\n",
        "    return ce\n",
        "\n",
        "def accuracy(y_hat,y):\n",
        "  return np.sum(y_hat==y)/len(y)"
      ],
      "execution_count": null,
      "outputs": []
    },
    {
      "cell_type": "markdown",
      "metadata": {
        "deletable": false,
        "editable": false,
        "heading_collapsed": true,
        "hidden": true,
        "id": "OQ0i1tVuT3bb",
        "run_control": {
          "frozen": true
        }
      },
      "source": [
        "### Part1:\n",
        "Complete the functions of the MLP class to create\n",
        "a MultiLayer Perceptron"
      ]
    },
    {
      "cell_type": "code",
      "metadata": {
        "hidden": true,
        "id": "86AdE8SntShx"
      },
      "source": [
        "class MLP:\n",
        "    def __init__(self, in_dimensions, hidden_dimensions, out_dimensions):\n",
        "         self.w1 = np.random.rand(hidden_dimensions,in_dimensions)*np.sqrt(2. /in_dimensions)\n",
        "         self.b1 = np.random.rand(hidden_dimensions,1)*np.sqrt(2. /in_dimensions)\n",
        "         self.w2 = np.random.rand(out_dimensions,hidden_dimensions)*np.sqrt(2. /hidden_dimensions)\n",
        "         self.b2 = np.random.rand(out_dimensions,1)*np.sqrt(2. /in_dimensions)\n",
        "\n",
        "    def forward(self, x):\n",
        "        x = x.T\n",
        "        self.z1_forward = (self.w1 @ x) + self.b1\n",
        "        self.a1_forward = relu(self.z1_forward)\n",
        "        self.z2_forward = (self.w2@self.a1_forward)+self.b2\n",
        "        self.a2_forward = softMax(self.z2_forward)\n",
        "\n",
        "    def backward(self, loss, y,x):\n",
        "        m=y.size\n",
        "        y = oneHotEncoding(y)\n",
        "        self.z2_backward = self.a2_forward - y\n",
        "        self.w2_backward = (1. / m)*(self.z2_backward @ self.a1_forward.T)\n",
        "        self.b2_backward = (1. / m)*np.sum(self.z2_backward)\n",
        "        self.a1_backward = self.w2.T @ self.z2_backward\n",
        "        self.z1_backward = self.a1_backward * dReLU(self.z1_forward)\n",
        "        self.w1_backward = (1. / m)*(self.z1_backward @ x)\n",
        "        self.b1_backward = (1. / m)* np.sum(self.z1_backward)\n",
        "\n",
        "    def step(self, lr, lam,x):\n",
        "        m=x.shape[1]\n",
        "        self.w2 = self.w2 - lr*self.w2_backward - (1. / m)*(self.w2*lam*lr)\n",
        "        self.b2 = self.b2 - lr*self.b2_backward\n",
        "        self.w1 = self.w1 - lr*self.w1_backward - (1. / m)*(self.w1*lam*lr)\n",
        "        self.b1 = self.b1 - lr*self.b1_backward\n"
      ],
      "execution_count": null,
      "outputs": []
    },
    {
      "cell_type": "markdown",
      "metadata": {
        "deletable": false,
        "editable": false,
        "heading_collapsed": true,
        "hidden": true,
        "id": "EeMLiOlMUC2D",
        "run_control": {
          "frozen": true
        }
      },
      "source": [
        "### Part2:\n",
        "Make instances of your network and train them **using l2 regularization and choose the lambda using k-fold cross validation\n",
        "(set the candidate lambda as you wish)**.\n",
        "\n",
        "You may choose the hyperparameters (i.e. num of epochs, learning rate etc.)\n",
        "as you wish. \n",
        "\n",
        "Then train a final model on all the training data with the chosen lambda.\n"
      ]
    },
    {
      "cell_type": "code",
      "metadata": {
        "hidden": true,
        "id": "0Ojg9CSL4vei",
        "colab": {
          "base_uri": "https://localhost:8080/"
        },
        "outputId": "57f58c4b-89c5-4f1a-bd8a-edb87679b3b3"
      },
      "source": [
        "n_epochs = 100\n",
        "lr = 0.2\n",
        "k = 10\n",
        "in_dim = 784\n",
        "hidden_dim = 32\n",
        "out_dim =  10\n",
        "fold_len = int(data_train.shape[0]/k)\n",
        "lambdas = [0.001,0.1,0.2] \n",
        "best_lambda = lambdas[-1]\n",
        "best_acc = 0\n",
        "for l in lambdas:\n",
        "    acc = 0\n",
        "    loss = 0\n",
        "    for j in range(k):\n",
        "        model = MLP(in_dim, hidden_dim, out_dim)\n",
        "        fold_train_set = np.concatenate((data_train[:j * fold_len],data_train[(j + 1)*fold_len:]))\n",
        "        fold_train_target = np.concatenate((target_train[:j * fold_len],target_train[(j + 1) * fold_len:]))\n",
        "        val_set = data_train[j * fold_len:(j + 1) * fold_len]\n",
        "        val_target = target_train[j * fold_len:(j + 1) * fold_len]\n",
        "\n",
        "        for i in range(n_epochs):\n",
        "            model.forward(fold_train_set)\n",
        "            prediction = predict(model.a2_forward)\n",
        "            acc = accuracy(prediction, fold_train_target)\n",
        "            loss = CrossEntropy(prediction,fold_train_target)\n",
        "            model.backward(loss,fold_train_target,fold_train_set)\n",
        "            model.step(lr,l,fold_train_set)\n",
        "\n",
        "        model.forward(val_set)\n",
        "        prediction = predict(model.a2_forward)\n",
        "        fold_loss = CrossEntropy(prediction,val_target)\n",
        "        fold_acc = accuracy(prediction,val_target)\n",
        "\n",
        "    print(\"Lambda:\", l)\n",
        "    print(\"Loss: %.4f Accuracy: %.4f\" % (fold_loss, fold_acc))\n",
        "    print()\n",
        "    if fold_acc > best_acc:\n",
        "        best_acc = fold_acc\n",
        "        best_lambda = l\n",
        "\n",
        "print(\"Best lambda is\",best_lambda, \"with %.4f accuracy\" % best_acc)"
      ],
      "execution_count": null,
      "outputs": [
        {
          "output_type": "stream",
          "text": [
            "Lambda: 0.001\n",
            "Loss: 0.6976 Accuracy: 0.9065\n",
            "\n",
            "Lambda: 0.1\n",
            "Loss: 0.5595 Accuracy: 0.9090\n",
            "\n",
            "Lambda: 0.2\n",
            "Loss: 0.4939 Accuracy: 0.9065\n",
            "\n",
            "Best lambda is 0.1 with 0.9090 accuracy\n"
          ],
          "name": "stdout"
        }
      ]
    },
    {
      "cell_type": "markdown",
      "metadata": {
        "deletable": false,
        "editable": false,
        "heading_collapsed": true,
        "hidden": true,
        "id": "6cDg4S27xD5Y",
        "run_control": {
          "frozen": true
        }
      },
      "source": [
        "### Part3:\n",
        "Train a final model using the best lambda on all the training data"
      ]
    },
    {
      "cell_type": "code",
      "metadata": {
        "hidden": true,
        "id": "fE1mC1BkxMdt",
        "colab": {
          "base_uri": "https://localhost:8080/"
        },
        "outputId": "f2459cb8-d13d-4640-fecb-ede7b14d4718"
      },
      "source": [
        "n_epochs = 200\n",
        "lr = 0.2\n",
        "model = MLP(in_dim, hidden_dim, out_dim)\n",
        "losSeq = []\n",
        "accSeq = []\n",
        "for i in range(n_epochs):\n",
        "      model.forward(data_train)\n",
        "      prediction = predict(model.a2_forward)\n",
        "      acc = accuracy(prediction,target_train)\n",
        "      accSeq.append(acc)\n",
        "      loss = CrossEntropy(prediction,target_train)\n",
        "      losSeq.append(loss)\n",
        "      model.backward(loss,target_train,data_train)\n",
        "      model.step(lr,best_lambda,data_train)\n",
        "\n",
        "      if (i % 50 == 49):\n",
        "        print(\"epoch->\", i)\n",
        "        print(\"Loss is %.4f And Accuracy is %.4f\" % (loss, acc))"
      ],
      "execution_count": null,
      "outputs": [
        {
          "output_type": "stream",
          "text": [
            "epoch-> 49\n",
            "Loss is 0.9280 And Accuracy is 0.8507\n",
            "epoch-> 99\n",
            "Loss is 0.7764 And Accuracy is 0.8840\n",
            "epoch-> 149\n",
            "Loss is 0.7125 And Accuracy is 0.8953\n",
            "epoch-> 199\n",
            "Loss is 0.6621 And Accuracy is 0.9018\n"
          ],
          "name": "stdout"
        }
      ]
    },
    {
      "cell_type": "markdown",
      "metadata": {
        "deletable": false,
        "editable": false,
        "heading_collapsed": true,
        "hidden": true,
        "run_control": {
          "frozen": true
        },
        "id": "fLNeSEVxr23T"
      },
      "source": [
        "### Part4:"
      ]
    },
    {
      "cell_type": "markdown",
      "metadata": {
        "hidden": true,
        "id": "6X8hFKXQUeml"
      },
      "source": [
        "Plot the training loss value and accuracy (mean over all batches each epoch if you're using mini-batches) over epochs\n",
        "for the final model that is trained on all the training data"
      ]
    },
    {
      "cell_type": "code",
      "metadata": {
        "hidden": true,
        "id": "_LpeQU225eGi",
        "colab": {
          "base_uri": "https://localhost:8080/",
          "height": 313
        },
        "outputId": "ac7718c3-3bfb-49c1-b824-d5e45ff51bf4"
      },
      "source": [
        "epochs = range(1, n_epochs+1)\n",
        "mlt.plot(epochs, losSeq)\n",
        "mlt.xlabel('Epoch'),mlt.ylabel('Loss')\n",
        "mlt.legend(),mlt.show()"
      ],
      "execution_count": null,
      "outputs": [
        {
          "output_type": "stream",
          "text": [
            "No handles with labels found to put in legend.\n"
          ],
          "name": "stderr"
        },
        {
          "output_type": "display_data",
          "data": {
            "image/png": "[encoded data removed]",
            "text/plain": [
              "<Figure size 432x288 with 1 Axes>"
            ]
          },
          "metadata": {
            "tags": [],
            "needs_background": "light"
          }
        },
        {
          "output_type": "execute_result",
          "data": {
            "text/plain": [
              "(<matplotlib.legend.Legend at 0x7f456fd01950>, None)"
            ]
          },
          "metadata": {
            "tags": []
          },
          "execution_count": 112
        }
      ]
    },
    {
      "cell_type": "code",
      "metadata": {
        "colab": {
          "base_uri": "https://localhost:8080/",
          "height": 313
        },
        "id": "eS1HH_GAuWtR",
        "outputId": "b4e115f3-3369-49c4-c233-78e7f5930ca6"
      },
      "source": [
        "mlt.plot(epochs, accSeq)\n",
        "mlt.xlabel('Epoch'),mlt.ylabel('Accuracy')\n",
        "mlt.legend(),mlt.show()"
      ],
      "execution_count": null,
      "outputs": [
        {
          "output_type": "stream",
          "text": [
            "No handles with labels found to put in legend.\n"
          ],
          "name": "stderr"
        },
        {
          "output_type": "display_data",
          "data": {
            "image/png": "[encoded data removed]",
            "text/plain": [
              "<Figure size 432x288 with 1 Axes>"
            ]
          },
          "metadata": {
            "tags": [],
            "needs_background": "light"
          }
        },
        {
          "output_type": "execute_result",
          "data": {
            "text/plain": [
              "(<matplotlib.legend.Legend at 0x7f456fb829d0>, None)"
            ]
          },
          "metadata": {
            "tags": []
          },
          "execution_count": 113
        }
      ]
    },
    {
      "cell_type": "markdown",
      "metadata": {
        "hidden": true,
        "id": "WIaBwatyUqmC"
      },
      "source": [
        "Use your network on the test set and report the accuracy, you must get at least 70% accuracy on the test set."
      ]
    },
    {
      "cell_type": "code",
      "metadata": {
        "hidden": true,
        "id": "NmQiBh4C5ULJ",
        "colab": {
          "base_uri": "https://localhost:8080/"
        },
        "outputId": "0f76df0f-f5e3-48c1-82ad-e32153065d91"
      },
      "source": [
        "model.forward(data_test)\n",
        "prediction = predict(model.a2_forward)\n",
        "acc = accuracy(prediction, target_test)\n",
        "print(f\"Accuracy: {acc*100} %\")"
      ],
      "execution_count": null,
      "outputs": [
        {
          "output_type": "stream",
          "text": [
            "Accuracy: 90.62 %\n"
          ],
          "name": "stdout"
        }
      ]
    }
  ]
}