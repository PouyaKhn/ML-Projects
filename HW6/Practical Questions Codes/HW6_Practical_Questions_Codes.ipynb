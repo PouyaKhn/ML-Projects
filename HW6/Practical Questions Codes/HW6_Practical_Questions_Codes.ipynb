{
  "nbformat": 4,
  "nbformat_minor": 0,
  "metadata": {
    "colab": {
      "provenance": []
    },
    "kernelspec": {
      "display_name": "Python 3",
      "language": "python",
      "name": "python3"
    },
    "language_info": {
      "codemirror_mode": {
        "name": "ipython",
        "version": 3
      },
      "file_extension": ".py",
      "mimetype": "text/x-python",
      "name": "python",
      "nbconvert_exporter": "python",
      "pygments_lexer": "ipython3",
      "version": "3.8.6"
    },
    "toc": {
      "base_numbering": 1,
      "nav_menu": {},
      "number_sections": true,
      "sideBar": true,
      "skip_h1_title": false,
      "title_cell": "Table of Contents",
      "title_sidebar": "Contents",
      "toc_cell": false,
      "toc_position": {},
      "toc_section_display": true,
      "toc_window_display": false
    },
    "varInspector": {
      "cols": {
        "lenName": 16,
        "lenType": 16,
        "lenVar": 40
      },
      "kernels_config": {
        "python": {
          "delete_cmd_postfix": "",
          "delete_cmd_prefix": "del ",
          "library": "var_list.py",
          "varRefreshCmd": "print(var_dic_list())"
        },
        "r": {
          "delete_cmd_postfix": ") ",
          "delete_cmd_prefix": "rm(",
          "library": "var_list.r",
          "varRefreshCmd": "cat(var_dic_list()) "
        }
      },
      "types_to_exclude": [
        "module",
        "function",
        "builtin_function_or_method",
        "instance",
        "_Feature"
      ],
      "window_display": false
    }
  },
  "cells": [
    {
      "cell_type": "markdown",
      "metadata": {
        "deletable": false,
        "editable": false,
        "heading_collapsed": true,
        "run_control": {
          "frozen": true
        },
        "id": "SXWxlhaHxUI_"
      },
      "source": [
        "# CE-40717: Machine Learning"
      ]
    },
    {
      "cell_type": "markdown",
      "metadata": {
        "deletable": false,
        "editable": false,
        "heading_collapsed": true,
        "hidden": true,
        "run_control": {
          "frozen": true
        },
        "id": "mwFE6odxxUJD"
      },
      "source": [
        "## HW6-Gradient Boosting"
      ]
    },
    {
      "cell_type": "code",
      "metadata": {
        "hidden": true,
        "colab": {
          "base_uri": "https://localhost:8080/"
        },
        "id": "3XTpvXRSxUJH",
        "outputId": "4c5a28ab-13f7-43f3-ec43-9955cd896736"
      },
      "source": [
        "!pip install -U scikit-learn\n",
        "!pip install xgboost"
      ],
      "execution_count": null,
      "outputs": [
        {
          "output_type": "stream",
          "text": [
            "Collecting scikit-learn\n",
            "\u001b[?25l  Downloading https://files.pythonhosted.org/packages/a8/eb/a48f25c967526b66d5f1fa7a984594f0bf0a5afafa94a8c4dbc317744620/scikit_learn-0.24.2-cp37-cp37m-manylinux2010_x86_64.whl (22.3MB)\n",
            "\u001b[K     |████████████████████████████████| 22.3MB 1.3MB/s \n",
            "\u001b[?25hRequirement already satisfied, skipping upgrade: joblib>=0.11 in /usr/local/lib/python3.7/dist-packages (from scikit-learn) (1.0.1)\n",
            "Collecting threadpoolctl>=2.0.0\n",
            "  Downloading https://files.pythonhosted.org/packages/f7/12/ec3f2e203afa394a149911729357aa48affc59c20e2c1c8297a60f33f133/threadpoolctl-2.1.0-py3-none-any.whl\n",
            "Requirement already satisfied, skipping upgrade: numpy>=1.13.3 in /usr/local/lib/python3.7/dist-packages (from scikit-learn) (1.19.5)\n",
            "Requirement already satisfied, skipping upgrade: scipy>=0.19.1 in /usr/local/lib/python3.7/dist-packages (from scikit-learn) (1.4.1)\n",
            "Installing collected packages: threadpoolctl, scikit-learn\n",
            "  Found existing installation: scikit-learn 0.22.2.post1\n",
            "    Uninstalling scikit-learn-0.22.2.post1:\n",
            "      Successfully uninstalled scikit-learn-0.22.2.post1\n",
            "Successfully installed scikit-learn-0.24.2 threadpoolctl-2.1.0\n",
            "Requirement already satisfied: xgboost in /usr/local/lib/python3.7/dist-packages (0.90)\n",
            "Requirement already satisfied: numpy in /usr/local/lib/python3.7/dist-packages (from xgboost) (1.19.5)\n",
            "Requirement already satisfied: scipy in /usr/local/lib/python3.7/dist-packages (from xgboost) (1.4.1)\n"
          ],
          "name": "stdout"
        }
      ]
    },
    {
      "cell_type": "code",
      "metadata": {
        "hidden": true,
        "id": "3-q6IEAmxUJK"
      },
      "source": [
        "import numpy as np\n",
        "import matplotlib.pyplot as plt\n",
        "import xgboost as xgb\n",
        "\n",
        "from time import time\n",
        "from sklearn import datasets\n",
        "from sklearn.model_selection import train_test_split\n",
        "from sklearn.ensemble import GradientBoostingClassifier\n",
        "from sklearn.metrics import precision_score, recall_score, f1_score, plot_confusion_matrix, confusion_matrix\n",
        "from sklearn.preprocessing import LabelEncoder"
      ],
      "execution_count": null,
      "outputs": []
    },
    {
      "cell_type": "markdown",
      "metadata": {
        "deletable": false,
        "editable": false,
        "heading_collapsed": true,
        "hidden": true,
        "run_control": {
          "frozen": true
        },
        "id": "90bc_-LzxUJM"
      },
      "source": [
        "### Load & Prepare Dataset:"
      ]
    },
    {
      "cell_type": "code",
      "metadata": {
        "hidden": true,
        "colab": {
          "base_uri": "https://localhost:8080/"
        },
        "id": "eBpgMkdfxUJN",
        "outputId": "b37c209d-66fd-4902-a7ed-a9d57c300065"
      },
      "source": [
        "np.random.seed(seed=42)\n",
        "\n",
        "# load dataset:\n",
        "iris = datasets.load_iris()\n",
        "X = iris.data\n",
        "y = iris.target\n",
        "\n",
        "label_encoder = LabelEncoder()\n",
        "label_encoder = label_encoder.fit(y)\n",
        "y = label_encoder.transform(y)\n",
        "\n",
        "\n",
        "# split dataset to train set and validation set:\n",
        "x_train, x_val, y_train, y_val = train_test_split(X, y, test_size=0.1)\n",
        "\n",
        "data_train = xgb.DMatrix(data=x_train, label=y_train)\n",
        "data_val = xgb.DMatrix(data=x_val, label=y_val)\n",
        "\n",
        "n_val = y_train.size\n",
        "class_names = iris.target_names\n",
        "print(n_val, class_names)"
      ],
      "execution_count": null,
      "outputs": [
        {
          "output_type": "stream",
          "text": [
            "135 ['setosa' 'versicolor' 'virginica']\n"
          ],
          "name": "stdout"
        }
      ]
    },
    {
      "cell_type": "markdown",
      "metadata": {
        "deletable": false,
        "editable": false,
        "heading_collapsed": true,
        "hidden": true,
        "run_control": {
          "frozen": true
        },
        "id": "oflrgRRBxUJO"
      },
      "source": [
        "### Set Hyperparameter for Both Gradine Boost & XGboost:"
      ]
    },
    {
      "cell_type": "markdown",
      "metadata": {
        "deletable": false,
        "editable": false,
        "heading_collapsed": true,
        "hidden": true,
        "run_control": {
          "frozen": true
        },
        "id": "Nd39-YgdxUJR"
      },
      "source": [
        "### Define Classifiers:"
      ]
    },
    {
      "cell_type": "code",
      "metadata": {
        "hidden": true,
        "id": "oLApWCy2xUJR"
      },
      "source": [
        "# define classifier for gradient boost:\n",
        "GB_clf = GradientBoostingClassifier(n_estimators=5,learning_rate=0.01,max_depth=3,random_state=0)\n",
        "\n",
        "# define classifier for XGboost:\n",
        "XGboost_clf = xgb.XGBClassifier(eta=0.3,silent=True,objective=\"multi:softprob\",num_class=3,max_depth=3)"
      ],
      "execution_count": null,
      "outputs": []
    },
    {
      "cell_type": "markdown",
      "metadata": {
        "deletable": false,
        "editable": false,
        "heading_collapsed": true,
        "hidden": true,
        "run_control": {
          "frozen": true
        },
        "id": "AGwDGkmIxUJS"
      },
      "source": [
        "### Train Both Classifiers:"
      ]
    },
    {
      "cell_type": "code",
      "metadata": {
        "hidden": true,
        "colab": {
          "base_uri": "https://localhost:8080/"
        },
        "id": "1TQA0xwBxUJT",
        "outputId": "3bfd88a0-2767-4a61-f423-21d8d572caba"
      },
      "source": [
        "# train  gradient boost:\n",
        "tic = time()\n",
        "trained_GB = GB_clf.fit(x_train,y_train)\n",
        "toc = time()\n",
        "\n",
        "# calculate training time for GB:\n",
        "GB_train_time = toc - tic\n",
        "print(f\"GB_train_time: {1000.0*GB_train_time} millisecond\")\n",
        "\n",
        "\n",
        "# train XGboost:\n",
        "tic = time()\n",
        "trained_XGboost = XGboost_clf.fit(x_train,y_train)\n",
        "toc = time()\n",
        "\n",
        "# calculate training time for XGboost:\n",
        "XGboost_train_time = toc - tic\n",
        "print(f\"XGboost_train_time: {1000.0*XGboost_train_time} millisecond\")"
      ],
      "execution_count": null,
      "outputs": [
        {
          "output_type": "stream",
          "text": [
            "GB_train_time: 15.887260437011719 millisecond\n",
            "XGboost_train_time: 26.45421028137207 millisecond\n"
          ],
          "name": "stdout"
        }
      ]
    },
    {
      "cell_type": "markdown",
      "metadata": {
        "deletable": false,
        "editable": false,
        "heading_collapsed": true,
        "hidden": true,
        "run_control": {
          "frozen": true
        },
        "id": "b8DBzF0NxUJU"
      },
      "source": [
        "### Prediction on Validation Set:"
      ]
    },
    {
      "cell_type": "code",
      "metadata": {
        "hidden": true,
        "colab": {
          "base_uri": "https://localhost:8080/"
        },
        "id": "jx08eBv0xUJV",
        "outputId": "9da12560-1f76-471a-8195-74be545597bc"
      },
      "source": [
        "# prediction for gradient boost:\n",
        "tic = time()\n",
        "y_pred_GB = GB_clf.predict(x_val)\n",
        "toc = time()\n",
        "\n",
        "# calculate validation time per data for GB:\n",
        "GB_val_time_per_data = (toc - tic)/n_val\n",
        "print(f\"GB_val_time_per_data: {1000.0*GB_val_time_per_data} millisecond\")\n",
        "\n",
        "\n",
        "# prediction for XGboost:\n",
        "tic = time()\n",
        "y_pred_XGboost = XGboost_clf.predict(x_val)\n",
        "toc = time()\n",
        "y_pred_XGboost = [round(value) for value in y_pred_XGboost]\n",
        "\n",
        "# calculate validation time per data for XGboost:\n",
        "XGboost_val_time_per_data = (toc - tic)/n_val\n",
        "print(f\"XGboost_val_time_per_data: {1000.0*XGboost_val_time_per_data} millisecond\")"
      ],
      "execution_count": null,
      "outputs": [
        {
          "output_type": "stream",
          "text": [
            "GB_val_time_per_data: 0.012722721806278935 millisecond\n",
            "XGboost_val_time_per_data: 0.0055683983696831595 millisecond\n"
          ],
          "name": "stdout"
        }
      ]
    },
    {
      "cell_type": "markdown",
      "metadata": {
        "deletable": false,
        "editable": false,
        "heading_collapsed": true,
        "hidden": true,
        "run_control": {
          "frozen": true
        },
        "id": "bu5LrHoDxUJW"
      },
      "source": [
        "### Evaluation (precision - recall - F1 score - confusion matrix):"
      ]
    },
    {
      "cell_type": "markdown",
      "metadata": {
        "deletable": false,
        "editable": false,
        "heading_collapsed": true,
        "hidden": true,
        "run_control": {
          "frozen": true
        },
        "id": "wV7rE7jYxUJX"
      },
      "source": [
        "#### for Gradient Boost:"
      ]
    },
    {
      "cell_type": "code",
      "metadata": {
        "hidden": true,
        "colab": {
          "base_uri": "https://localhost:8080/"
        },
        "id": "vgXjH5lrxUJX",
        "outputId": "720eb4c0-a455-4d40-8178-24932e614c63"
      },
      "source": [
        "# calculate precision\n",
        "precision_GB = precision_score(y_val , y_pred_GB,average='macro')\n",
        "\n",
        "print(f\"precision_GB: {precision_GB}\")"
      ],
      "execution_count": null,
      "outputs": [
        {
          "output_type": "stream",
          "text": [
            "precision_GB: 1.0\n"
          ],
          "name": "stdout"
        }
      ]
    },
    {
      "cell_type": "code",
      "metadata": {
        "hidden": true,
        "colab": {
          "base_uri": "https://localhost:8080/"
        },
        "id": "1F0uupY1xUJY",
        "outputId": "9dce9433-5c93-4fab-f0ce-3b7a00a2b570"
      },
      "source": [
        "# calculate recall\n",
        "recall_GB = recall_score(y_val,y_pred_GB,average='macro')\n",
        "\n",
        "print(f\"recall_GB: {recall_GB}\")"
      ],
      "execution_count": null,
      "outputs": [
        {
          "output_type": "stream",
          "text": [
            "recall_GB: 1.0\n"
          ],
          "name": "stdout"
        }
      ]
    },
    {
      "cell_type": "code",
      "metadata": {
        "hidden": true,
        "colab": {
          "base_uri": "https://localhost:8080/"
        },
        "id": "ijXd9tD5xUJZ",
        "outputId": "8897cc2b-26a7-4311-a0c7-65e86c1dd754"
      },
      "source": [
        "# calculate F1 score\n",
        "f1_GB = f1_score(y_val,y_pred_GB,average='macro')\n",
        "\n",
        "print(f\"F1_GB: {f1_GB}\")"
      ],
      "execution_count": null,
      "outputs": [
        {
          "output_type": "stream",
          "text": [
            "F1_GB: 1.0\n"
          ],
          "name": "stdout"
        }
      ]
    },
    {
      "cell_type": "code",
      "metadata": {
        "hidden": true,
        "colab": {
          "base_uri": "https://localhost:8080/",
          "height": 573
        },
        "id": "VPTl5m35xUJa",
        "outputId": "cea44007-dd0d-4d3e-f1ed-4d22c0da4d71"
      },
      "source": [
        "# calculate confusion matrix\n",
        "titles_options = [(\"Confusion matrix, without normalization\", None),\n",
        "                  (\"Normalized confusion matrix\", \"true\")]\n",
        "for title, normalize in titles_options:\n",
        "    disp = plot_confusion_matrix(trained_GB, x_val, y_val,\n",
        "                                 display_labels=class_names,\n",
        "                                 cmap=plt.cm.Blues,\n",
        "                                 normalize=normalize)\n",
        "    disp.ax_.set_title(title)\n",
        "\n",
        "plt.show()"
      ],
      "execution_count": null,
      "outputs": [
        {
          "output_type": "display_data",
          "data": {
            "image/png": "[encoded data removed]",
            "text/plain": [
              "<Figure size 432x288 with 2 Axes>"
            ]
          },
          "metadata": {
            "tags": [],
            "needs_background": "light"
          }
        },
        {
          "output_type": "display_data",
          "data": {
            "image/png": "[encoded data removed]",
            "text/plain": [
              "<Figure size 432x288 with 2 Axes>"
            ]
          },
          "metadata": {
            "tags": [],
            "needs_background": "light"
          }
        }
      ]
    },
    {
      "cell_type": "markdown",
      "metadata": {
        "deletable": false,
        "editable": false,
        "heading_collapsed": true,
        "hidden": true,
        "run_control": {
          "frozen": true
        },
        "id": "Czk29-bFxUJb"
      },
      "source": [
        "#### for XGboost:"
      ]
    },
    {
      "cell_type": "code",
      "metadata": {
        "hidden": true,
        "colab": {
          "base_uri": "https://localhost:8080/"
        },
        "id": "cpmbJpaAxUJb",
        "outputId": "8b0ac52d-0822-4675-ec3d-c56c33596767"
      },
      "source": [
        "# calculate precision\n",
        "precision_XGboost = precision_score(y_val,y_pred_XGboost,average='macro')\n",
        "\n",
        "print(f\"precision_XGboost: {precision_XGboost}\")"
      ],
      "execution_count": null,
      "outputs": [
        {
          "output_type": "stream",
          "text": [
            "precision_XGboost: 1.0\n"
          ],
          "name": "stdout"
        }
      ]
    },
    {
      "cell_type": "code",
      "metadata": {
        "hidden": true,
        "colab": {
          "base_uri": "https://localhost:8080/"
        },
        "id": "CI5BSp2oxUJc",
        "outputId": "8415d4d6-1f53-458e-f428-dea0ecdb316b"
      },
      "source": [
        "# calculate recall\n",
        "recall_XGboost = recall_score(y_val,y_pred_XGboost,average='macro')\n",
        "\n",
        "print(f\"recall_XGboost: {recall_XGboost}\")"
      ],
      "execution_count": null,
      "outputs": [
        {
          "output_type": "stream",
          "text": [
            "recall_XGboost: 1.0\n"
          ],
          "name": "stdout"
        }
      ]
    },
    {
      "cell_type": "code",
      "metadata": {
        "hidden": true,
        "colab": {
          "base_uri": "https://localhost:8080/"
        },
        "id": "qefCI8KlxUJd",
        "outputId": "bf86db59-1a6e-4ae3-edc9-ba283b8c1ad5"
      },
      "source": [
        "# calculate F1 score\n",
        "f1_XGboost = f1_score(y_val,y_pred_XGboost,average='macro')\n",
        "\n",
        "print(f\"F1_XGboost: {f1_XGboost}\")"
      ],
      "execution_count": null,
      "outputs": [
        {
          "output_type": "stream",
          "text": [
            "F1_XGboost: 1.0\n"
          ],
          "name": "stdout"
        }
      ]
    },
    {
      "cell_type": "code",
      "metadata": {
        "hidden": true,
        "colab": {
          "base_uri": "https://localhost:8080/",
          "height": 573
        },
        "id": "cCoPp0aJxUJd",
        "outputId": "dfa587c6-f49f-401f-ebf7-1f04b0465a6d"
      },
      "source": [
        "# calculate confusion matrix\n",
        "#cm_XGboost = confusion_matrix(y_val,y_pred_XGboost)\n",
        "\n",
        "#print(f\"conf_mat_XGboost: {cm_XGboost}\")\n",
        "\n",
        "titles_options = [(\"Confusion matrix, without normalization\", None),\n",
        "                  (\"Normalized confusion matrix\", 'true')]\n",
        "for title, normalize in titles_options:\n",
        "    disp = plot_confusion_matrix(trained_XGboost, x_val, y_val,\n",
        "                                 display_labels=class_names,\n",
        "                                 cmap=plt.cm.Blues,\n",
        "                                 normalize=normalize)\n",
        "    disp.ax_.set_title(title)\n",
        "\n",
        "plt.show()"
      ],
      "execution_count": null,
      "outputs": [
        {
          "output_type": "display_data",
          "data": {
            "image/png": "[encoded data removed]",
            "text/plain": [
              "<Figure size 432x288 with 2 Axes>"
            ]
          },
          "metadata": {
            "tags": [],
            "needs_background": "light"
          }
        },
        {
          "output_type": "display_data",
          "data": {
            "image/png": "[encoded data removed]",
            "text/plain": [
              "<Figure size 432x288 with 2 Axes>"
            ]
          },
          "metadata": {
            "tags": [],
            "needs_background": "light"
          }
        }
      ]
    },
    {
      "cell_type": "markdown",
      "metadata": {
        "deletable": false,
        "editable": false,
        "heading_collapsed": true,
        "hidden": true,
        "run_control": {
          "frozen": true
        },
        "id": "4xS6tGWxxUJe"
      },
      "source": [
        "### Compare Gradient Boost & XGboost Algorithm According to Evaluation Part Results:"
      ]
    },
    {
      "cell_type": "markdown",
      "metadata": {
        "hidden": true,
        "id": "s0_xggCdxUJf"
      },
      "source": [
        "As we can see, confusion matrix and all evaluation metrics in both models are equal because of low number of datas in dataset. we can see that training phase execution time in GB is better that XGB but validation phase execution time in XGB is about 1/3 in GB. so if we add more data in dataset, XGB has little more execution time for training but very better execution time in validation and test phase. so I think XGB is better.\n",
        "\n",
        "Also I think XGB is better in precision and other metrics if we have large dataset but we can't see this result in this Homework."
      ]
    }
  ]
}